{
 "cells": [
  {
   "cell_type": "code",
   "execution_count": 1,
   "metadata": {},
   "outputs": [
    {
     "name": "stdout",
     "output_type": "stream",
     "text": [
      "mH+ = 148\n",
      "mH+ = 164\n",
      "mH+ = 180\n",
      "mH+ = 196\n",
      "mH+ = 206\n"
     ]
    }
   ],
   "source": [
    "masses = [\n",
    "    [70, 98],\n",
    "    [80, 114],\n",
    "    [90, 130],\n",
    "    [100, 146],\n",
    "    [110, 166]\n",
    "]\n",
    "\n",
    "# * mH+ = mA+60 if (mA-mH)<20 GeV,\n",
    "# * mH+ = mA+50 if 20<(mA-mH)<50 GeV,\n",
    "# * mH+ = mA+40 if  50<(mA-mH)<80 GeV\n",
    "# * mH+ = mA+30 if  80<(mA-mH)<120 GeV\n",
    "\n",
    "def getMaxMHch(mH, mA):\n",
    "    diff = mA - mH\n",
    "    if (diff)<20:\n",
    "        return mA+60\n",
    "    elif (diff)<50:\n",
    "        return mA+50\n",
    "    elif (diff)<80:\n",
    "        return mA+40\n",
    "    elif (diff)<120:\n",
    "        return mA+30\n",
    "    else:\n",
    "        raise ValueError(\"Invalid mass difference\")\n",
    "\n",
    "for mH, mA in masses:\n",
    "    print(f\"mH+ = {getMaxMHch(mH, mA)}\")"
   ]
  },
  {
   "cell_type": "markdown",
   "metadata": {},
   "source": [
    "* mH+ = mA+60 if (mA-mH)<20 GeV,\n",
    "* mH+ = mA+50 if 20<(mA-mH)<50 GeV,\n",
    "* mH+ = mA+40 if  50<(mA-mH)<80 GeV\n",
    "* mH+ = mA+30 if  80<(mA-mH)<120 GeV"
   ]
  }
 ],
 "metadata": {
  "kernelspec": {
   "display_name": "Python 3",
   "language": "python",
   "name": "python3"
  },
  "language_info": {
   "codemirror_mode": {
    "name": "ipython",
    "version": 3
   },
   "file_extension": ".py",
   "mimetype": "text/x-python",
   "name": "python",
   "nbconvert_exporter": "python",
   "pygments_lexer": "ipython3",
   "version": "3.9.18"
  }
 },
 "nbformat": 4,
 "nbformat_minor": 2
}
