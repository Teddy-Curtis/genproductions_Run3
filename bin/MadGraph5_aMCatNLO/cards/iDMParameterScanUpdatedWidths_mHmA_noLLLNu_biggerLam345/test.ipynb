{
 "cells": [
  {
   "cell_type": "code",
   "execution_count": 1,
   "metadata": {},
   "outputs": [
    {
     "name": "stdout",
     "output_type": "stream",
     "text": [
      "mH = 70, mA = 98, lambda = -0.0035714285714285718\n",
      "mH = 80, mA = 114, lambda = 0.014285714285714287\n",
      "mH = 90, mA = 130, lambda = 0.03214285714285715\n",
      "mH = 100, mA = 146, lambda = 0.05\n",
      "mH = 110, mA = 166, lambda = 0.06785714285714287\n"
     ]
    }
   ],
   "source": [
    "masses = [\n",
    "    [70, 98],\n",
    "    [80, 114],\n",
    "    [90, 130],\n",
    "    [100, 146],\n",
    "    [110, 166]\n",
    "]\n",
    "\n",
    "\n",
    "def getLam(mH):\n",
    "    lam = (0.05 / 28) * (mH - 72)\n",
    "\n",
    "    return lam\n",
    "\n",
    "\n",
    "for mH, mA in masses:\n",
    "    lam = getLam(mH)\n",
    "    print(f\"mH = {mH}, mA = {mA}, lambda = {lam}\")"
   ]
  }
 ],
 "metadata": {
  "kernelspec": {
   "display_name": "Python 3",
   "language": "python",
   "name": "python3"
  },
  "language_info": {
   "codemirror_mode": {
    "name": "ipython",
    "version": 3
   },
   "file_extension": ".py",
   "mimetype": "text/x-python",
   "name": "python",
   "nbconvert_exporter": "python",
   "pygments_lexer": "ipython3",
   "version": "3.9.18"
  }
 },
 "nbformat": 4,
 "nbformat_minor": 2
}
